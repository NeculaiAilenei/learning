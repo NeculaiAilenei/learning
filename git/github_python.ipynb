{
 "cells": [
  {
   "cell_type": "markdown",
   "id": "0fbdf3c6-c442-40cf-885a-cef558d88217",
   "metadata": {},
   "source": [
    "# GitHub & Python\n",
    "https://www.thepythoncode.com/article/using-github-api-in-python"
   ]
  },
  {
   "cell_type": "markdown",
   "id": "b7129185-00e1-4e5a-92ea-e06ff7200219",
   "metadata": {},
   "source": [
    "# Getting User Data"
   ]
  },
  {
   "cell_type": "code",
   "execution_count": null,
   "id": "3fdfeed6-5c83-43d9-8c35-f2b6e65bc9ed",
   "metadata": {
    "tags": []
   },
   "outputs": [],
   "source": [
    "import requests\n",
    "from pprint import pprint\n",
    "\n",
    "# github username\n",
    "username = \"NeculaiAilenei\"\n",
    "# url to request\n",
    "url = f\"https://api.github.com/users/{username}\"\n",
    "# make the request and return the json\n",
    "user_data = requests.get(url).json()\n",
    "# pretty print JSON data\n",
    "pprint(user_data)"
   ]
  },
  {
   "cell_type": "markdown",
   "id": "2252b673-2106-4812-bb9a-434de0b1c1bf",
   "metadata": {},
   "source": [
    "# Getting Repositories of a User"
   ]
  },
  {
   "cell_type": "code",
   "execution_count": null,
   "id": "6caaa2e2-49bc-4ba6-a201-13c4626dcd13",
   "metadata": {
    "tags": []
   },
   "outputs": [],
   "source": [
    "import base64\n",
    "from github import Github\n",
    "from pprint import pprint\n",
    "\n",
    "# Github username\n",
    "# pygithub object\n",
    "g = Github()\n",
    "# get that user by username\n",
    "user = g.get_user(username)\n",
    "\n",
    "for repo in user.get_repos():\n",
    "    print(repo)"
   ]
  },
  {
   "cell_type": "code",
   "execution_count": null,
   "id": "d53e6aee-2643-429d-bb92-71dcf3000ac2",
   "metadata": {
    "tags": []
   },
   "outputs": [],
   "source": [
    "repo = user.get_repos()[0]\n",
    "repo"
   ]
  },
  {
   "cell_type": "markdown",
   "id": "bef846a4-3775-4537-a3e2-4e13ec589874",
   "metadata": {},
   "source": [
    "# Function to extract information from repository"
   ]
  },
  {
   "cell_type": "code",
   "execution_count": null,
   "id": "f12be125-8e7c-485a-aef7-92a6376b6178",
   "metadata": {
    "tags": []
   },
   "outputs": [],
   "source": [
    "def print_repo(repo):\n",
    "    # repository full name\n",
    "    print(\"Full name:\", repo.full_name)\n",
    "    # repository description\n",
    "    print(\"Description:\", repo.description)\n",
    "    # the date of when the repo was created\n",
    "    print(\"Date created:\", repo.created_at)\n",
    "    # the date of the last git push\n",
    "    print(\"Date of last push:\", repo.pushed_at)\n",
    "    # home website (if available)\n",
    "    print(\"Home Page:\", repo.homepage)\n",
    "    # programming language\n",
    "    print(\"Language:\", repo.language)\n",
    "    # number of forks\n",
    "    print(\"Number of forks:\", repo.forks)\n",
    "    # number of stars\n",
    "    print(\"Number of stars:\", repo.stargazers_count)\n",
    "    print(\"-\"*50)\n",
    "    # repository content (files & directories)\n",
    "    print(\"Contents:\")\n",
    "    try:\n",
    "        for content in repo.get_contents(\"\"):\n",
    "            print(content)\n",
    "    except:\n",
    "        pass\n",
    "    try:\n",
    "        # repo license\n",
    "        print(\"License:\", base64.b64decode(repo.get_license().content.encode()).decode())\n",
    "    except:\n",
    "        pass\n",
    "for repo in user.get_repos():\n",
    "    print_repo(repo)"
   ]
  },
  {
   "cell_type": "markdown",
   "id": "6dd292a3-f0ff-470a-bf2c-7d2bb1be1982",
   "metadata": {},
   "source": [
    "# Repository object has a lot of other fields. I suggest you use dir(repo) to get the fields you want to print"
   ]
  },
  {
   "cell_type": "code",
   "execution_count": 29,
   "id": "208c7405-179a-4d86-b01d-78b572f4a732",
   "metadata": {
    "tags": []
   },
   "outputs": [
    {
     "name": "stdout",
     "output_type": "stream",
     "text": [
      "Full name: NeculaiAilenei/learning\n",
      "Description: None\n",
      "Date created: 2023-02-26 15:22:56\n",
      "Date of last push: 2023-02-26 18:42:53\n",
      "Home Page: None\n",
      "Language: Python\n",
      "Number of forks: 0\n",
      "Number of stars: 1\n",
      "--------------------------------------------------\n",
      "Contents:\n",
      "ContentFile(path=\"README.md\")\n",
      "ContentFile(path=\"matrix_multiplier_pycharm_make\")\n",
      "====================================================================================================\n",
      "Full name: NeculaiAilenei/verilator\n",
      "Description: Evaluation\n",
      "Date created: 2023-02-12 08:07:38\n",
      "Date of last push: 2023-02-12 08:07:39\n",
      "Home Page: None\n",
      "Language: None\n",
      "Number of forks: 0\n",
      "Number of stars: 1\n",
      "--------------------------------------------------\n",
      "Contents:\n",
      "====================================================================================================\n"
     ]
    }
   ],
   "source": [
    "repo = user.get_repos()[0]\n",
    "repo# iterate over all public repositories\n",
    "for repo in user.get_repos():\n",
    "    print_repo(repo)\n",
    "    print(\"=\"*100)\n"
   ]
  },
  {
   "cell_type": "code",
   "execution_count": null,
   "id": "6f14fc72-ded8-4d83-86f3-c701c81c14bb",
   "metadata": {
    "tags": []
   },
   "outputs": [],
   "source": [
    "repo.get_contents()"
   ]
  },
  {
   "cell_type": "markdown",
   "id": "466ae0c8-f46d-4b0a-856e-6ff01e963992",
   "metadata": {},
   "source": [
    "# Extracting Private Repositories of a Logged-in User"
   ]
  },
  {
   "cell_type": "code",
   "execution_count": null,
   "id": "15ad2d93-91f9-49fa-b6dc-1c5d614a634f",
   "metadata": {
    "tags": []
   },
   "outputs": [],
   "source": [
    "username = \"NeculaiAilenei\"\n",
    "password = \"Neculai1956\"\n",
    "\n",
    "# authenticate to github\n",
    "g = Github(username, password)\n",
    "# get the authenticated user\n",
    "user = g.get_user()\n",
    "for repo in user.get_repos():\n",
    "    print_repo(repo)"
   ]
  },
  {
   "cell_type": "markdown",
   "id": "c2fc9f34-dc57-45f4-9b9f-fe05251a72b5",
   "metadata": {},
   "source": [
    "# Downloading Files in a Repository"
   ]
  },
  {
   "cell_type": "code",
   "execution_count": 32,
   "id": "215f79d9-8dc9-40d3-9d6c-0504f7970014",
   "metadata": {
    "tags": []
   },
   "outputs": [
    {
     "name": "stdout",
     "output_type": "stream",
     "text": [
      "Full name: NeculaiAilenei/learning\n",
      "Description: None\n",
      "Date created: 2023-02-26 15:22:56\n",
      "Date of last push: 2023-02-26 18:42:53\n",
      "Home Page: None\n",
      "Language: Python\n",
      "Number of forks: 0\n",
      "Number of stars: 1\n",
      "--------------------------------------------------\n",
      "Contents:\n",
      "ContentFile(path=\"README.md\")\n",
      "ContentFile(path=\"matrix_multiplier_pycharm_make\")\n"
     ]
    }
   ],
   "source": [
    "import os\n",
    "# make a directory to save the Python files\n",
    "if not os.path.exists(\"python-files\"):\n",
    "    os.mkdir(\"python-files\")\n",
    "\n",
    "def print_repo(repo):\n",
    "    # repository full name\n",
    "    print(\"Full name:\", repo.full_name)\n",
    "    # repository description\n",
    "    print(\"Description:\", repo.description)\n",
    "    # the date of when the repo was created\n",
    "    print(\"Date created:\", repo.created_at)\n",
    "    # the date of the last git push\n",
    "    print(\"Date of last push:\", repo.pushed_at)\n",
    "    # home website (if available)\n",
    "    print(\"Home Page:\", repo.homepage)\n",
    "    # programming language\n",
    "    print(\"Language:\", repo.language)\n",
    "    # number of forks\n",
    "    print(\"Number of forks:\", repo.forks)\n",
    "    # number of stars\n",
    "    print(\"Number of stars:\", repo.stargazers_count)\n",
    "    print(\"-\"*50)\n",
    "    # repository content (files & directories)\n",
    "    print(\"Contents:\")\n",
    "    try:\n",
    "        for content in repo.get_contents(\"\"):\n",
    "            # check if it's a Python file\n",
    "            if content.path.endswith(\".py\"):\n",
    "                # save the file\n",
    "                filename = os.path.join(\"python-files\", f\"{repo.full_name.replace('/', '-')}-{content.path}\")\n",
    "                with open(filename, \"wb\") as f:\n",
    "                    f.write(content.decoded_content)\n",
    "            print(content)\n",
    "        # repo license\n",
    "#        print(\"License:\", base64.b64decode(repo.get_license().content.encode()).decode())\n",
    "    except Exception as e:\n",
    "        print(\"Error:\", e)\n",
    "repo = user.get_repos()[0]\n",
    "print_repo(repo)"
   ]
  },
  {
   "cell_type": "code",
   "execution_count": 34,
   "id": "8cfe1bf8-13a1-4a86-9db3-3f4c4fb9a125",
   "metadata": {
    "tags": []
   },
   "outputs": [
    {
     "data": {
      "text/plain": [
       "[ContentFile(path=\"matrix_multiplier_pycharm_make/hdl\"),\n",
       " ContentFile(path=\"matrix_multiplier_pycharm_make/tests\")]"
      ]
     },
     "execution_count": 34,
     "metadata": {},
     "output_type": "execute_result"
    }
   ],
   "source": [
    "repo.get_contents(\"matrix_multiplier_pycharm_make\")"
   ]
  },
  {
   "cell_type": "code",
   "execution_count": null,
   "id": "3476e265-1d33-4e4d-93f5-fdcd5de08cd1",
   "metadata": {
    "tags": []
   },
   "outputs": [],
   "source": [
    "# Github username\n",
    "username = \"NeculaiAilenei\"\n",
    "# pygithub object\n",
    "g = Github()\n",
    "# get that user by username\n",
    "user = g.get_user(username)\n",
    "#repo = user.get_repos()[0]\n",
    "#repo"
   ]
  },
  {
   "cell_type": "markdown",
   "id": "16b56baf-953f-4f52-97e2-feca62bdfb8b",
   "metadata": {
    "tags": []
   },
   "source": [
    "# Searching for Repositories"
   ]
  },
  {
   "cell_type": "code",
   "execution_count": null,
   "id": "5825ca26-a747-43e6-bcae-74bba3e8cf19",
   "metadata": {
    "tags": []
   },
   "outputs": [],
   "source": [
    "# search repositories by name\n",
    "for repo in g.search_repositories(\"learning\"):\n",
    "    # print repository details\n",
    "    print_repo(repo)\n"
   ]
  },
  {
   "cell_type": "code",
   "execution_count": null,
   "id": "6293e33d-c885-43db-86f2-8ea700f8b987",
   "metadata": {
    "tags": []
   },
   "outputs": [],
   "source": [
    "# search by programming language\n",
    "for i, repo in enumerate(g.search_repositories(\"language:python\")):\n",
    "    print_repo(repo)\n",
    "    print(\"=\"*100)\n",
    "    if i == 9:\n",
    "        break\n"
   ]
  },
  {
   "cell_type": "markdown",
   "id": "1e851608-62ac-48db-b77d-7b3e891cc6fe",
   "metadata": {},
   "source": [
    "# Manipulating Files in your Repository\n"
   ]
  },
  {
   "cell_type": "code",
   "execution_count": null,
   "id": "7ff2304d-ec46-4dc9-b6f6-52ab3db9f9b7",
   "metadata": {},
   "outputs": [],
   "source": [
    "# searching for my repository\n",
    "repo = g.search_repositories(\"pythoncode tutorials\")[0]\n",
    "\n",
    "# create a file and commit n push\n",
    "repo.create_file(\"test.txt\", \"commit message\", \"content of the file\")\n",
    "\n",
    "# delete that created file\n",
    "contents = repo.get_contents(\"test.txt\")\n",
    "repo.delete_file(contents.path, \"remove test.txt\", contents.sha)"
   ]
  },
  {
   "cell_type": "markdown",
   "id": "32caeeae-79a8-49df-b4b3-2fa68c578269",
   "metadata": {},
   "source": [
    "<b>Conclusion</b><br>\n",
    "We have just scratched the surface of the GitHub API, there are a lot of other functions and methods you can use, and obviously, we can't cover all of them. Here are some useful ones you can test on your own:<br>\n",
    "\n",
    "1. g.get_organization(login): Returns an Organization object that represents a GitHub organization\n",
    "2. g.get_gist(id): Returns a Gist object representing a gist in GitHub.\n",
    "3. g.search_code(query): Returns a paginated list of ContentFile objects representing matched files on several repositories.\n",
    "4. g.search_topics(query): Returns a paginated list of Topic objects representing a GitHub topic.\n",
    "5. g.search_commits(query): Returns a paginated list of Commit objects in which it represents a commit in GitHub\n"
   ]
  }
 ],
 "metadata": {
  "kernelspec": {
   "display_name": "Python 3 (ipykernel)",
   "language": "python",
   "name": "python3"
  },
  "language_info": {
   "codemirror_mode": {
    "name": "ipython",
    "version": 3
   },
   "file_extension": ".py",
   "mimetype": "text/x-python",
   "name": "python",
   "nbconvert_exporter": "python",
   "pygments_lexer": "ipython3",
   "version": "3.10.6"
  },
  "toc-autonumbering": true
 },
 "nbformat": 4,
 "nbformat_minor": 5
}
