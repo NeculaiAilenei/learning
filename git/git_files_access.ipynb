{
 "cells": [
  {
   "cell_type": "markdown",
   "id": "c2110960-3916-4001-b0fc-4ef4878c4006",
   "metadata": {},
   "source": [
    "# Access files from GitHub"
   ]
  },
  {
   "cell_type": "markdown",
   "id": "619e8750-e67c-46fd-8611-1633c8a9869c",
   "metadata": {},
   "source": [
    "# Getting User Data"
   ]
  },
  {
   "cell_type": "code",
   "execution_count": null,
   "id": "7977afd5-e63f-443d-8811-45e23eb10adf",
   "metadata": {
    "tags": []
   },
   "outputs": [],
   "source": [
    "import requests\n",
    "from pprint import pprint\n",
    "\n",
    "# github username\n",
    "username = \"NeculaiAilenei\"\n",
    "# url to request\n",
    "url = f\"https://api.github.com/users/{username}\"\n",
    "# make the request and return the json\n",
    "user_data = requests.get(url).json()\n",
    "# pretty print JSON data\n",
    "pprint(user_data)"
   ]
  },
  {
   "cell_type": "markdown",
   "id": "81bae8b3-fcf1-4def-af2e-935e658f5758",
   "metadata": {},
   "source": [
    "# Getting Repositories of a User"
   ]
  },
  {
   "cell_type": "code",
   "execution_count": null,
   "id": "34ff0e9a-601e-4176-9791-af663036042c",
   "metadata": {
    "tags": []
   },
   "outputs": [],
   "source": [
    "import base64\n",
    "from github import Github\n",
    "from pprint import pprint\n",
    "\n",
    "# Github username\n",
    "# pygithub object\n",
    "g = Github()\n",
    "# get that user by username\n",
    "user = g.get_user(username)\n",
    "\n",
    "for repo in user.get_repos():\n",
    "    print(repo)"
   ]
  },
  {
   "cell_type": "code",
   "execution_count": null,
   "id": "b9093309-4ae0-4410-ac6f-6471e990c315",
   "metadata": {
    "tags": []
   },
   "outputs": [],
   "source": [
    "repo = user.get_repos(\"NeculaiAilenei/learning\")\n",
    "repo1 = user.get_repos()[0]\n",
    "print(repo1)\n",
    "print(repo)"
   ]
  },
  {
   "cell_type": "code",
   "execution_count": null,
   "id": "d1eddee7-76e0-456a-af11-5ecbb877a6fc",
   "metadata": {
    "tags": []
   },
   "outputs": [],
   "source": [
    "help(user.get_repos())"
   ]
  },
  {
   "cell_type": "code",
   "execution_count": 32,
   "id": "dbaae4ed-fc45-4abd-a6b5-a8c3639b423d",
   "metadata": {
    "tags": []
   },
   "outputs": [
    {
     "name": "stdout",
     "output_type": "stream",
     "text": [
      "matrix_multiplier_pycharm_make/hdl/matrix_multiplier.sv\n"
     ]
    }
   ],
   "source": [
    "repo = g.get_repo(\"NeculaiAilenei/learning\")\n",
    "contents = repo.get_contents(\"matrix_multiplier_pycharm_make/hdl\")\n",
    "for content in contents:\n",
    "    print(content.path)"
   ]
  }
 ],
 "metadata": {
  "kernelspec": {
   "display_name": "Python 3 (ipykernel)",
   "language": "python",
   "name": "python3"
  },
  "language_info": {
   "codemirror_mode": {
    "name": "ipython",
    "version": 3
   },
   "file_extension": ".py",
   "mimetype": "text/x-python",
   "name": "python",
   "nbconvert_exporter": "python",
   "pygments_lexer": "ipython3",
   "version": "3.10.6"
  }
 },
 "nbformat": 4,
 "nbformat_minor": 5
}
